{
 "cells": [
  {
   "cell_type": "code",
   "execution_count": 1,
   "metadata": {},
   "outputs": [
    {
     "name": "stderr",
     "output_type": "stream",
     "text": [
      "Using TensorFlow backend.\n"
     ]
    }
   ],
   "source": [
    "from keras.layers import Dense, Activation, Dropout\n",
    "from keras.layers import LSTMCell\n",
    "from keras.layers import Input, RNN, Concatenate \n",
    "from keras.callbacks import ModelCheckpoint, EarlyStopping\n",
    "from keras.models import Model\n",
    "from keras.optimizers import RMSprop\n",
    "from keras.optimizers import SGD, Adam\n",
    "from urllib.request import urlretrieve\n",
    "import unidecode\n",
    "import numpy as np\n",
    "import random\n",
    "import sys\n",
    "import re, cgi\n",
    "import glob\n",
    "import cv2"
   ]
  },
  {
   "cell_type": "code",
   "execution_count": 2,
   "metadata": {},
   "outputs": [],
   "source": [
    "import os\n",
    "base_dir = 'LSTMimages'"
   ]
  },
  {
   "cell_type": "code",
   "execution_count": 3,
   "metadata": {},
   "outputs": [],
   "source": [
    "image_folders = os.listdir(base_dir)\n",
    "image_names = []\n",
    "for folder in image_folders:\n",
    "    image_loc = os.path.join(base_dir, folder)\n",
    "    for s in os.listdir(image_loc):\n",
    "        image_names.append(folder +'\\\\'+ s)"
   ]
  },
  {
   "cell_type": "code",
   "execution_count": 4,
   "metadata": {},
   "outputs": [],
   "source": [
    "from sklearn.utils import shuffle\n",
    "\n",
    "filenames_shuffled = shuffle(image_names)\n",
    "filenames_shuffled_numpy = np.array(filenames_shuffled)"
   ]
  },
  {
   "cell_type": "code",
   "execution_count": 5,
   "metadata": {},
   "outputs": [
    {
     "name": "stdout",
     "output_type": "stream",
     "text": [
      "(1025,)\n",
      "(257,)\n"
     ]
    }
   ],
   "source": [
    "from sklearn.model_selection import train_test_split\n",
    "X_train_filenames, X_test_filenames = train_test_split(\n",
    "    filenames_shuffled_numpy, test_size=0.2, random_state=1)\n",
    "\n",
    "print(X_train_filenames.shape) # (55196,)\n",
    "\n",
    "print(X_test_filenames.shape)   # (13799,)"
   ]
  },
  {
   "cell_type": "code",
   "execution_count": 68,
   "metadata": {},
   "outputs": [],
   "source": [
    "#Halo architekturajanak meghatarazosa\n",
    "lstm_n=[128]\n",
    "img_height=88\n",
    "N_fc1k=128 # dekoder cella kimenetere uletett MLP rejtett retegenek merete\n",
    "patience = 10\n",
    "# optimalizalo eljaras kivalasztasa es felparameterezese\n",
    "lr=0.001\n",
    "wd = 0 \n",
    "\n",
    "epochs = 50\n",
    "batch_size = 256\n",
    "N_input = 100\n",
    "N_output = 20\n",
    "steps = 5000\n",
    "w_step = 3"
   ]
  },
  {
   "cell_type": "code",
   "execution_count": 62,
   "metadata": {},
   "outputs": [],
   "source": [
    "train_width = 0\n",
    "test_width = 0\n",
    "for i in X_train_filenames:\n",
    "    train_width += (cv2.imread('c:/NHF/LSTMimages/' + str(i), cv2.IMREAD_UNCHANGED).shape[1] - N_input - N_output)/w_step\n",
    "for i in X_test_filenames:\n",
    "    test_width += (cv2.imread('c:/NHF/LSTMimages/' + str(i), cv2.IMREAD_UNCHANGED).shape[1] - N_input - N_output)/w_step"
   ]
  },
  {
   "cell_type": "code",
   "execution_count": 63,
   "metadata": {},
   "outputs": [],
   "source": [
    "def img_data_gen(batch, steps, N_input, N_output, image_filenames, w_step):\n",
    "    \n",
    "    img_idx = 0\n",
    "    window_idx = 0\n",
    "    \n",
    "    while True:\n",
    "        img_idx = 0\n",
    "        window_idx = 0\n",
    "        img = cv2.imread('c:/NHF/LSTMimages/' + str(image_filenames[img_idx]), cv2.IMREAD_UNCHANGED)/255.0\n",
    "        #print(\"Filename: \", image_filenames[img_idx])\n",
    "        img_width = img.shape[1]\n",
    "        img_height = img.shape[0]\n",
    "        for _ in range(steps):\n",
    "            \n",
    "            enk_in = []\n",
    "            dek_out = []\n",
    "            #print(idx, \"th batch\")\n",
    "            for b in range(0,batch):\n",
    "                enk_in.append(img[:, window_idx:window_idx + N_input])\n",
    "                dek_out.append(img[:,window_idx + N_input:window_idx + N_input + N_output])\n",
    "                window_idx += w_step\n",
    "\n",
    "                if(window_idx >= img_width - N_input - N_output):\n",
    "                    img_idx += 1\n",
    "                    if(img_idx >= image_filenames.shape[0]):\n",
    "                        img_idx = 0\n",
    "                    img = cv2.imread('c:/NHF/LSTMimages/' + str(image_filenames[img_idx]), cv2.IMREAD_UNCHANGED)/255.0\n",
    "                    #print(\"New filename: \", image_filenames[img_idx])\n",
    "                    img_width = img.shape[1]\n",
    "                    #print(self.img_width)\n",
    "                    window_idx = 0\n",
    "                    #print(\"New image idx: \",  self.curr_img_idx)\n",
    "                    #print(\"b: \", b)\n",
    "            enk_in = np.array(enk_in).reshape((batch, img_height, N_input))\n",
    "            enk_in = np.swapaxes(enk_in, 1, 2)\n",
    "            dek_out = np.array(dek_out).reshape((batch, img_height, N_output))\n",
    "            dek_out = np.swapaxes(dek_out, 1, 2)\n",
    "            dek_in = np.zeros((dek_out.shape[0], dek_out.shape[1], 88)) # itt biztos, hogy 1 lesz az utolso dim-ben?\n",
    "             #print(\"Window: \", self.curr_window)\n",
    "            #print(\"X.shape: \", batch_x.shape)\n",
    "            \n",
    "            #print(\"enk_bem:\", enk_in.shape)\n",
    "            #print(\"dek_kim:\", dek_out.shape)\n",
    "            #print(\"dek_bem:\", dek_in.shape)\n",
    "            \n",
    "            #print(\"Y.shape: \", batch_y.shape)\n",
    "            yield ([enk_in, dek_in], dek_out)\n",
    "            "
   ]
  },
  {
   "cell_type": "code",
   "execution_count": 2,
   "metadata": {},
   "outputs": [],
   "source": [
    "from keras import backend as K\n",
    "alpha = 1.2\n",
    "beta = 1\n",
    "def customLoss2(y_true, y_pred):\n",
    "    loss = 0\n",
    "    loss = K.mean(alpha*K.sum(K.square(y_pred - y_true**(1/10000.0))*y_true**(1/10000.0)) +  beta*K.sum(K.square(y_pred))*(1 - y_true**(1/10000.0)))\n",
    "    #print(y_pred[y_nn_idx,i])\n",
    "    return loss"
   ]
  },
  {
   "cell_type": "code",
   "execution_count": 66,
   "metadata": {},
   "outputs": [],
   "source": [
    "def build_model(cells, d_in, N_fc1k, lr, wd):\n",
    "\n",
    "    # ENKODER definialasa:\n",
    "    enc_in=Input(shape=(None, d_in))\n",
    "\n",
    "    enc_cells = [] # lehetoseg lesz tobb cell stackelesere\n",
    "    for n_neur in cells:\n",
    "        enc_cells.append(LSTMCell(n_neur))\n",
    "\n",
    "    encoder = RNN(enc_cells, return_state=True) # visszaadja a vegso allapotot is \n",
    "    enc_states = encoder(enc_in)[1:] # kimeneti lista elso eleme a valodi kimenet, a tobbi meg az allapotok\n",
    "\n",
    "    # DEKODER definialasa:\n",
    "    dec_in=Input(shape=(None, d_in))\n",
    "\n",
    "    dec_cells = [] # itt is stackelni tudjuk majd a cellakat\n",
    "    for n_neur in cells:\n",
    "        dec_cells.append(LSTMCell(n_neur))\n",
    "    \n",
    "    decoder = RNN(dec_cells, return_sequences=True, return_state=True) # visszadja a cella kimeneti szekvenciajat, illetve a vegso allapotat\n",
    "    dec_out = decoder(dec_in, initial_state=enc_states)[0] # megnezni, hogyan lehet koze FCN-t tenni\n",
    "\n",
    "    # FCL-t tegyunk a vegere\n",
    "    dec_fc1= Dense(N_fc1k, activation='relu')(dec_out)\n",
    "    dec_fc2 = Dense(d_in, activation='sigmoid')(dec_fc1)\n",
    "\n",
    "    # Hozzuk letre a modelt\n",
    "    model = Model(inputs=[enc_in, dec_in], outputs=dec_fc2)\n",
    "    model.compile(optimizer=Adam(lr=lr, decay=wd), loss=customLoss2, metrics=['mae', 'mse'])\n",
    "    print(model.summary())\n",
    "    \n",
    "    return(model)"
   ]
  },
  {
   "cell_type": "code",
   "execution_count": 67,
   "metadata": {},
   "outputs": [
    {
     "data": {
      "text/plain": [
       "12889.11328125"
      ]
     },
     "execution_count": 67,
     "metadata": {},
     "output_type": "execute_result"
    }
   ],
   "source": [
    "train_width/batch_size"
   ]
  },
  {
   "cell_type": "code",
   "execution_count": 69,
   "metadata": {},
   "outputs": [],
   "source": [
    "train_data_gen = img_data_gen(batch = batch_size, steps = steps, N_input = N_input, N_output = N_output, image_filenames = X_train_filenames, w_step = w_step)\n",
    "valid_data_gen = img_data_gen(batch = batch_size, steps = steps//10, N_input = N_input, N_output = N_output, image_filenames = X_test_filenames, w_step = w_step)"
   ]
  },
  {
   "cell_type": "code",
   "execution_count": 70,
   "metadata": {},
   "outputs": [
    {
     "name": "stdout",
     "output_type": "stream",
     "text": [
      "Model: \"model_4\"\n",
      "__________________________________________________________________________________________________\n",
      "Layer (type)                    Output Shape         Param #     Connected to                     \n",
      "==================================================================================================\n",
      "input_7 (InputLayer)            (None, None, 88)     0                                            \n",
      "__________________________________________________________________________________________________\n",
      "input_8 (InputLayer)            (None, None, 88)     0                                            \n",
      "__________________________________________________________________________________________________\n",
      "rnn_7 (RNN)                     [(None, 128), (None, 111104      input_7[0][0]                    \n",
      "__________________________________________________________________________________________________\n",
      "rnn_8 (RNN)                     [(None, None, 128),  111104      input_8[0][0]                    \n",
      "                                                                 rnn_7[0][1]                      \n",
      "                                                                 rnn_7[0][2]                      \n",
      "__________________________________________________________________________________________________\n",
      "dense_7 (Dense)                 (None, None, 128)    16512       rnn_8[0][0]                      \n",
      "__________________________________________________________________________________________________\n",
      "dense_8 (Dense)                 (None, None, 88)     11352       dense_7[0][0]                    \n",
      "==================================================================================================\n",
      "Total params: 250,072\n",
      "Trainable params: 250,072\n",
      "Non-trainable params: 0\n",
      "__________________________________________________________________________________________________\n",
      "None\n"
     ]
    }
   ],
   "source": [
    "model = build_model(cells = lstm_n, d_in = img_height, N_fc1k=N_fc1k, lr = lr, wd = wd)"
   ]
  },
  {
   "cell_type": "code",
   "execution_count": 71,
   "metadata": {},
   "outputs": [],
   "source": [
    "early_stopping = EarlyStopping(patience=patience, verbose=1)\n",
    "checkpoint = ModelCheckpoint(filepath = 'Seq2seqLSTM_100_20.hdf5', save_best_only=True, verbose=1)"
   ]
  },
  {
   "cell_type": "code",
   "execution_count": 72,
   "metadata": {},
   "outputs": [
    {
     "name": "stdout",
     "output_type": "stream",
     "text": [
      "Epoch 1/50\n",
      "5000/5000 [==============================] - 566s 113ms/step - loss: 14466.6187 - mae: 0.0492 - mse: 0.0178 - val_loss: 11947.0068 - val_mae: 0.0463 - val_mse: 0.0150\n",
      "\n",
      "Epoch 00001: val_loss improved from inf to 11947.00684, saving model to Seq2seqLSTM_100_20.hdf5\n",
      "Epoch 2/50\n",
      "5000/5000 [==============================] - 564s 113ms/step - loss: 13057.8432 - mae: 0.0433 - mse: 0.0150 - val_loss: 11701.4932 - val_mae: 0.0441 - val_mse: 0.0144\n",
      "\n",
      "Epoch 00002: val_loss improved from 11947.00684 to 11701.49316, saving model to Seq2seqLSTM_100_20.hdf5\n",
      "Epoch 3/50\n",
      "5000/5000 [==============================] - 569s 114ms/step - loss: 12857.1679 - mae: 0.0417 - mse: 0.0147 - val_loss: 11615.8965 - val_mae: 0.0438 - val_mse: 0.0143\n",
      "\n",
      "Epoch 00003: val_loss improved from 11701.49316 to 11615.89648, saving model to Seq2seqLSTM_100_20.hdf5\n",
      "Epoch 4/50\n",
      "5000/5000 [==============================] - 563s 113ms/step - loss: 12765.6585 - mae: 0.0409 - mse: 0.0145 - val_loss: 11562.4180 - val_mae: 0.0429 - val_mse: 0.0141\n",
      "\n",
      "Epoch 00004: val_loss improved from 11615.89648 to 11562.41797, saving model to Seq2seqLSTM_100_20.hdf5\n",
      "Epoch 5/50\n",
      "5000/5000 [==============================] - 566s 113ms/step - loss: 12704.7464 - mae: 0.0403 - mse: 0.0144 - val_loss: 11531.1162 - val_mae: 0.0421 - val_mse: 0.0141\n",
      "\n",
      "Epoch 00005: val_loss improved from 11562.41797 to 11531.11621, saving model to Seq2seqLSTM_100_20.hdf5\n",
      "Epoch 6/50\n",
      "5000/5000 [==============================] - 566s 113ms/step - loss: 12659.0435 - mae: 0.0399 - mse: 0.0143 - val_loss: 11517.8750 - val_mae: 0.0416 - val_mse: 0.0140\n",
      "\n",
      "Epoch 00006: val_loss improved from 11531.11621 to 11517.87500, saving model to Seq2seqLSTM_100_20.hdf5\n",
      "Epoch 7/50\n",
      "5000/5000 [==============================] - 568s 114ms/step - loss: 12621.8871 - mae: 0.0396 - mse: 0.0143 - val_loss: 11508.6133 - val_mae: 0.0414 - val_mse: 0.0140\n",
      "\n",
      "Epoch 00007: val_loss improved from 11517.87500 to 11508.61328, saving model to Seq2seqLSTM_100_20.hdf5\n",
      "Epoch 8/50\n",
      "5000/5000 [==============================] - 569s 114ms/step - loss: 12590.4436 - mae: 0.0393 - mse: 0.0142 - val_loss: 11499.2266 - val_mae: 0.0410 - val_mse: 0.0139\n",
      "\n",
      "Epoch 00008: val_loss improved from 11508.61328 to 11499.22656, saving model to Seq2seqLSTM_100_20.hdf5\n",
      "Epoch 9/50\n",
      "5000/5000 [==============================] - 567s 113ms/step - loss: 12563.0139 - mae: 0.0391 - mse: 0.0141 - val_loss: 11491.1855 - val_mae: 0.0406 - val_mse: 0.0139\n",
      "\n",
      "Epoch 00009: val_loss improved from 11499.22656 to 11491.18555, saving model to Seq2seqLSTM_100_20.hdf5\n",
      "Epoch 10/50\n",
      "5000/5000 [==============================] - 560s 112ms/step - loss: 12538.7369 - mae: 0.0389 - mse: 0.0141 - val_loss: 11486.8447 - val_mae: 0.0402 - val_mse: 0.0139\n",
      "\n",
      "Epoch 00010: val_loss improved from 11491.18555 to 11486.84473, saving model to Seq2seqLSTM_100_20.hdf5\n",
      "Epoch 11/50\n",
      "5000/5000 [==============================] - 565s 113ms/step - loss: 12516.6248 - mae: 0.0387 - mse: 0.0141 - val_loss: 11477.0918 - val_mae: 0.0402 - val_mse: 0.0139\n",
      "\n",
      "Epoch 00011: val_loss improved from 11486.84473 to 11477.09180, saving model to Seq2seqLSTM_100_20.hdf5\n",
      "Epoch 12/50\n",
      "5000/5000 [==============================] - 561s 112ms/step - loss: 12498.2796 - mae: 0.0386 - mse: 0.0140 - val_loss: 11470.7637 - val_mae: 0.0401 - val_mse: 0.0139\n",
      "\n",
      "Epoch 00012: val_loss improved from 11477.09180 to 11470.76367, saving model to Seq2seqLSTM_100_20.hdf5\n",
      "Epoch 13/50\n",
      "5000/5000 [==============================] - 565s 113ms/step - loss: 12478.6807 - mae: 0.0384 - mse: 0.0140 - val_loss: 11470.8867 - val_mae: 0.0400 - val_mse: 0.0139\n",
      "\n",
      "Epoch 00013: val_loss did not improve from 11470.76367\n",
      "Epoch 14/50\n",
      "5000/5000 [==============================] - 560s 112ms/step - loss: 12464.9100 - mae: 0.0383 - mse: 0.0140 - val_loss: 11472.3662 - val_mae: 0.0400 - val_mse: 0.0139\n",
      "\n",
      "Epoch 00014: val_loss did not improve from 11470.76367\n",
      "Epoch 15/50\n",
      "5000/5000 [==============================] - 567s 113ms/step - loss: 12450.1983 - mae: 0.0382 - mse: 0.0139 - val_loss: 11459.9531 - val_mae: 0.0399 - val_mse: 0.0139\n",
      "\n",
      "Epoch 00015: val_loss improved from 11470.76367 to 11459.95312, saving model to Seq2seqLSTM_100_20.hdf5\n",
      "Epoch 16/50\n",
      "5000/5000 [==============================] - 566s 113ms/step - loss: 12437.6780 - mae: 0.0381 - mse: 0.0139 - val_loss: 11466.3516 - val_mae: 0.0396 - val_mse: 0.0139\n",
      "\n",
      "Epoch 00016: val_loss did not improve from 11459.95312\n",
      "Epoch 17/50\n",
      "5000/5000 [==============================] - 567s 113ms/step - loss: 12426.3720 - mae: 0.0380 - mse: 0.0139 - val_loss: 11460.0244 - val_mae: 0.0398 - val_mse: 0.0139\n",
      "\n",
      "Epoch 00017: val_loss did not improve from 11459.95312\n",
      "Epoch 18/50\n",
      "5000/5000 [==============================] - 573s 115ms/step - loss: 12414.3763 - mae: 0.0379 - mse: 0.0138 - val_loss: 11463.0771 - val_mae: 0.0397 - val_mse: 0.0139\n",
      "\n",
      "Epoch 00018: val_loss did not improve from 11459.95312\n",
      "Epoch 19/50\n",
      "5000/5000 [==============================] - 572s 114ms/step - loss: 12405.1069 - mae: 0.0378 - mse: 0.0138 - val_loss: 11459.2695 - val_mae: 0.0395 - val_mse: 0.0138\n",
      "\n",
      "Epoch 00019: val_loss improved from 11459.95312 to 11459.26953, saving model to Seq2seqLSTM_100_20.hdf5\n",
      "Epoch 20/50\n",
      "5000/5000 [==============================] - 566s 113ms/step - loss: 12394.4329 - mae: 0.0378 - mse: 0.0138 - val_loss: 11457.0117 - val_mae: 0.0396 - val_mse: 0.0139\n",
      "\n",
      "Epoch 00020: val_loss improved from 11459.26953 to 11457.01172, saving model to Seq2seqLSTM_100_20.hdf5\n",
      "Epoch 21/50\n",
      "5000/5000 [==============================] - 568s 114ms/step - loss: 12385.3079 - mae: 0.0377 - mse: 0.0138 - val_loss: 11461.7988 - val_mae: 0.0395 - val_mse: 0.0138\n",
      "\n",
      "Epoch 00021: val_loss did not improve from 11457.01172\n",
      "Epoch 22/50\n",
      "5000/5000 [==============================] - 569s 114ms/step - loss: 12377.0658 - mae: 0.0376 - mse: 0.0138 - val_loss: 11459.4863 - val_mae: 0.0394 - val_mse: 0.0138\n",
      "\n",
      "Epoch 00022: val_loss did not improve from 11457.01172\n",
      "Epoch 23/50\n",
      "5000/5000 [==============================] - 568s 114ms/step - loss: 12369.9796 - mae: 0.0376 - mse: 0.0138 - val_loss: 11463.1787 - val_mae: 0.0394 - val_mse: 0.0138\n",
      "\n",
      "Epoch 00023: val_loss did not improve from 11457.01172\n",
      "Epoch 24/50\n",
      "5000/5000 [==============================] - 570s 114ms/step - loss: 12362.5349 - mae: 0.0375 - mse: 0.0137 - val_loss: 11467.8818 - val_mae: 0.0395 - val_mse: 0.0139\n",
      "\n",
      "Epoch 00024: val_loss did not improve from 11457.01172\n",
      "Epoch 25/50\n",
      "5000/5000 [==============================] - 572s 114ms/step - loss: 12354.6907 - mae: 0.0374 - mse: 0.0137 - val_loss: 11461.0635 - val_mae: 0.0395 - val_mse: 0.0139\n",
      "\n",
      "Epoch 00025: val_loss did not improve from 11457.01172\n",
      "Epoch 26/50\n",
      "5000/5000 [==============================] - 571s 114ms/step - loss: 12347.9791 - mae: 0.0374 - mse: 0.0137 - val_loss: 11463.6523 - val_mae: 0.0395 - val_mse: 0.0139\n",
      "\n",
      "Epoch 00026: val_loss did not improve from 11457.01172\n",
      "Epoch 27/50\n",
      "5000/5000 [==============================] - 571s 114ms/step - loss: 12341.8350 - mae: 0.0373 - mse: 0.0137 - val_loss: 11466.2773 - val_mae: 0.0395 - val_mse: 0.0139\n",
      "\n",
      "Epoch 00027: val_loss did not improve from 11457.01172\n",
      "Epoch 28/50\n",
      "5000/5000 [==============================] - 568s 114ms/step - loss: 12336.9752 - mae: 0.0373 - mse: 0.0137 - val_loss: 11469.5410 - val_mae: 0.0395 - val_mse: 0.0139\n",
      "\n",
      "Epoch 00028: val_loss did not improve from 11457.01172\n",
      "Epoch 29/50\n",
      "5000/5000 [==============================] - 566s 113ms/step - loss: 12329.7648 - mae: 0.0372 - mse: 0.0137 - val_loss: 11472.3750 - val_mae: 0.0397 - val_mse: 0.0139\n",
      "\n",
      "Epoch 00029: val_loss did not improve from 11457.01172\n",
      "Epoch 30/50\n",
      "5000/5000 [==============================] - 558s 112ms/step - loss: 12325.2705 - mae: 0.0372 - mse: 0.0137 - val_loss: 11479.6787 - val_mae: 0.0396 - val_mse: 0.0139\n",
      "\n",
      "Epoch 00030: val_loss did not improve from 11457.01172\n",
      "Epoch 00030: early stopping\n"
     ]
    }
   ],
   "source": [
    "history=model.fit_generator(train_data_gen, steps_per_epoch=steps, epochs=epochs, callbacks=[early_stopping, checkpoint], \n",
    "                              validation_data=valid_data_gen, validation_steps=steps//10)"
   ]
  },
  {
   "cell_type": "code",
   "execution_count": 3,
   "metadata": {},
   "outputs": [
    {
     "name": "stdout",
     "output_type": "stream",
     "text": [
      "WARNING:tensorflow:From C:\\Users\\kajud\\AppData\\Roaming\\Python\\Python37\\site-packages\\tensorflow_core\\python\\ops\\resource_variable_ops.py:1630: calling BaseResourceVariable.__init__ (from tensorflow.python.ops.resource_variable_ops) with constraint is deprecated and will be removed in a future version.\n",
      "Instructions for updating:\n",
      "If using Keras pass *_constraint arguments to layers.\n",
      "WARNING:tensorflow:From C:\\Users\\kajud\\AppData\\Roaming\\Python\\Python37\\site-packages\\keras\\backend\\tensorflow_backend.py:422: The name tf.global_variables is deprecated. Please use tf.compat.v1.global_variables instead.\n",
      "\n"
     ]
    }
   ],
   "source": [
    "from keras.models import load_model\n",
    "model = load_model('Seq2seqLSTM_100_20.hdf5', custom_objects={'customLoss2': customLoss2})"
   ]
  },
  {
   "cell_type": "code",
   "execution_count": 10,
   "metadata": {},
   "outputs": [
    {
     "name": "stdout",
     "output_type": "stream",
     "text": [
      "(88, 512)\n",
      "(128, 512)\n",
      "(512,)\n",
      "(88, 512)\n",
      "(128, 512)\n",
      "(512,)\n",
      "(128, 128)\n",
      "(128,)\n",
      "(128, 88)\n",
      "(88,)\n"
     ]
    }
   ],
   "source": [
    "for i in range(len(model.get_weights())):\n",
    "    print(model.get_weights()[i].shape)"
   ]
  },
  {
   "cell_type": "code",
   "execution_count": 5,
   "metadata": {},
   "outputs": [
    {
     "data": {
      "text/plain": [
       "[array([[ 0.8629903 ,  0.4196268 ,  0.38959372, ..., -0.4214278 ,\n",
       "         -1.2320442 , -0.08437297],\n",
       "        [ 0.60548294, -0.05453093, -0.546279  , ...,  0.21920468,\n",
       "         -0.12219354, -0.32606447],\n",
       "        [-0.0715706 , -0.29295588, -0.32517865, ..., -0.70071995,\n",
       "         -0.29894817, -0.15914904],\n",
       "        ...,\n",
       "        [-0.05980754, -0.47505894, -0.16266985, ..., -0.9999768 ,\n",
       "         -0.9494501 , -0.4802526 ],\n",
       "        [-0.28607264, -0.1480363 ,  1.0361882 , ..., -0.07466677,\n",
       "          0.14375317, -0.23269722],\n",
       "        [ 0.5614993 , -0.15502128, -0.06684756, ..., -0.27862528,\n",
       "         -0.37778634,  0.47770402]], dtype=float32),\n",
       " array([[-1.0864557 ,  0.10325504, -0.37002933, ..., -0.36398652,\n",
       "         -0.25365496,  0.19100112],\n",
       "        [ 0.30497316,  0.39534232,  0.38866633, ..., -0.1823171 ,\n",
       "         -0.15388617,  0.27877825],\n",
       "        [-0.47884455,  0.46756995,  1.132218  , ..., -0.12526637,\n",
       "         -0.03119993, -0.39378035],\n",
       "        ...,\n",
       "        [-0.4672664 , -0.51762885,  0.13147059, ...,  0.13540718,\n",
       "         -0.48027322, -1.2734307 ],\n",
       "        [ 0.42262647,  0.54668975, -0.24998914, ...,  0.18182912,\n",
       "          1.4659423 , -1.0135376 ],\n",
       "        [-0.12172652, -0.12431036,  0.07034826, ..., -0.11211268,\n",
       "          0.12441202,  0.69080174]], dtype=float32),\n",
       " array([-2.23371130e-03,  1.69705972e-01,  1.99695483e-01,  3.27635229e-01,\n",
       "        -6.99494779e-01, -1.82866529e-01, -6.84435785e-01, -6.85853302e-01,\n",
       "        -5.20309389e-01, -6.41073287e-01, -4.96698886e-01, -7.42082484e-03,\n",
       "         5.85233457e-02, -4.24727313e-02, -4.94357437e-01, -4.86787051e-01,\n",
       "        -4.72804993e-01, -8.31505597e-01, -4.12889272e-01,  3.65362108e-01,\n",
       "         4.80749048e-02, -7.29781568e-01,  3.56782079e-01, -1.72961950e-02,\n",
       "        -6.14120126e-01, -7.00448990e-01, -2.69037813e-01, -1.74718454e-01,\n",
       "        -1.00196905e-01, -5.24259567e-01, -6.06151074e-02, -5.38888931e-01,\n",
       "        -3.70599210e-01, -2.34027326e-01, -4.34472293e-01, -4.07887064e-02,\n",
       "        -5.54693758e-01, -9.36817825e-02, -2.25974053e-01, -6.13175631e-01,\n",
       "        -6.93643332e-01, -6.60461128e-01, -5.58267772e-01, -6.45503402e-01,\n",
       "         6.04831100e-01, -4.44904435e-03, -6.58499122e-01, -3.32688466e-02,\n",
       "        -2.86782116e-01, -1.01434976e-01, -6.91837549e-01,  3.54002565e-01,\n",
       "        -5.77889740e-01, -2.69030571e-01, -8.87889028e-01, -8.34907413e-01,\n",
       "         1.44255087e-01, -5.26298225e-01,  1.03867091e-01,  5.18315937e-04,\n",
       "        -5.20129263e-01, -4.57562417e-01,  1.89435393e-01, -6.01900518e-01,\n",
       "        -2.66440570e-01,  3.67485471e-02, -4.44875389e-01, -5.32546699e-01,\n",
       "        -5.61838269e-01, -3.17922980e-01, -3.73613954e-01, -2.76887007e-02,\n",
       "        -3.86328220e-01, -5.63538313e-01, -6.13312006e-01, -6.63286924e-01,\n",
       "         1.39549434e-01, -7.05856204e-01, -3.13938051e-01, -2.18339544e-03,\n",
       "        -2.26162508e-01,  2.41467863e-01, -1.50788844e-01, -6.33833647e-01,\n",
       "        -6.75518870e-01,  2.45923638e-01, -4.71060991e-01, -4.46205109e-01,\n",
       "         3.90826672e-01, -5.21827698e-01, -8.22995305e-01, -8.30363691e-01,\n",
       "        -4.20086145e-01, -3.43468219e-01,  5.45871615e-01,  1.64261252e-01,\n",
       "        -4.98961836e-01,  1.18220776e-01, -5.28273880e-01, -3.03127080e-01,\n",
       "        -5.46711862e-01,  3.23431343e-01,  3.49514037e-01, -2.25737244e-02,\n",
       "         3.47601593e-01, -6.08809292e-01, -6.28331602e-02,  3.64884108e-01,\n",
       "         2.84068674e-01, -5.90731025e-01, -6.56176329e-01,  7.96256308e-03,\n",
       "        -1.03868473e+00, -5.72666824e-01, -6.12262152e-02, -3.96098465e-01,\n",
       "        -6.72168195e-01, -6.27983809e-01,  1.25800163e-01, -5.03540397e-01,\n",
       "        -5.05795121e-01,  2.19560459e-01, -8.10418725e-01, -6.63205445e-01,\n",
       "        -4.05794203e-01, -5.98053336e-01, -6.20761752e-01,  7.25157678e-01,\n",
       "         4.38832521e-01,  2.95058668e-01,  3.47787350e-01,  5.95687270e-01,\n",
       "         1.54275489e+00,  1.25042009e+00,  1.50016356e+00,  1.02458441e+00,\n",
       "         1.21824658e+00,  1.68919837e+00,  1.36185884e+00,  3.85340750e-01,\n",
       "         4.41503853e-01,  8.92191350e-01,  1.21295643e+00,  1.51406038e+00,\n",
       "         9.46496248e-01,  1.07787669e+00,  1.40917230e+00,  4.28833187e-01,\n",
       "         1.19398618e+00,  1.14435482e+00,  6.43973053e-01,  1.26629424e+00,\n",
       "         1.29557824e+00,  1.31539881e+00,  1.21080482e+00,  5.28492689e-01,\n",
       "         1.22650802e+00,  1.18774772e+00,  4.41353291e-01,  1.66841233e+00,\n",
       "         9.22138393e-01,  9.03099537e-01,  1.37409568e+00,  4.21933860e-01,\n",
       "         1.34001911e+00,  5.75987577e-01,  9.16228652e-01,  1.36078155e+00,\n",
       "         1.07833779e+00,  1.01421380e+00,  1.19935811e+00,  1.72300076e+00,\n",
       "         5.97625792e-01,  3.16009909e-01,  1.62502611e+00,  8.42358232e-01,\n",
       "         1.07419598e+00,  9.46479857e-01,  1.71687889e+00,  3.64158720e-01,\n",
       "         1.08527339e+00,  1.20589483e+00,  1.60024261e+00,  1.58204746e+00,\n",
       "        -3.93515587e-01,  1.10848033e+00,  4.29954171e-01,  1.01958716e+00,\n",
       "         7.10900426e-01,  1.38645124e+00,  6.23058915e-01,  1.18497670e+00,\n",
       "         2.57239163e-01,  7.01766551e-01,  7.08557308e-01,  1.48031271e+00,\n",
       "         1.06783760e+00,  1.79595017e+00,  1.09906793e+00,  4.13241327e-01,\n",
       "         1.44229770e+00,  7.56009221e-01,  1.61867082e+00,  1.40930617e+00,\n",
       "         3.81810933e-01,  1.31092119e+00,  1.14324379e+00,  1.70046115e+00,\n",
       "         1.10438883e+00,  3.31204891e-01,  7.16526687e-01,  1.64697433e+00,\n",
       "         1.34743643e+00,  3.63747746e-01,  3.02697718e-01,  1.35490561e+00,\n",
       "         5.64420700e-01,  1.23809338e+00,  1.39747894e+00,  1.51139963e+00,\n",
       "         1.42664230e+00,  1.27551484e+00,  7.96567202e-01,  3.87904644e-01,\n",
       "         1.19799149e+00,  4.24197793e-01,  1.40795696e+00,  7.47377098e-01,\n",
       "         1.65457046e+00,  6.13789320e-01,  2.96216577e-01,  6.18528664e-01,\n",
       "         9.09603417e-01,  1.14658201e+00,  1.00933635e+00,  6.56244338e-01,\n",
       "         5.41402638e-01,  1.53979349e+00,  1.16946244e+00,  3.97892326e-01,\n",
       "         1.29082620e+00,  1.21316874e+00,  6.13386929e-01,  1.02941549e+00,\n",
       "         1.53922188e+00,  1.51193750e+00,  2.72229761e-01,  1.03285456e+00,\n",
       "         1.10478544e+00,  5.85100204e-02,  1.57289171e+00,  1.27398145e+00,\n",
       "         1.26685083e+00,  1.38610971e+00,  1.58759499e+00,  3.00168663e-01,\n",
       "         1.48615703e-01,  2.78413445e-02,  1.41851991e-01,  2.92920977e-01,\n",
       "        -6.93135336e-02,  1.20050289e-01,  8.55918135e-03, -6.79590274e-03,\n",
       "         4.74662110e-02, -3.30971368e-02, -2.45434307e-02, -3.59394476e-02,\n",
       "        -8.35713819e-02,  1.50350422e-01,  2.80557256e-02, -2.91553009e-02,\n",
       "         6.42622635e-02, -1.35451287e-01,  3.03106359e-03, -2.81070955e-02,\n",
       "         2.14793891e-01,  5.24605513e-02,  2.16323927e-01,  3.11038554e-01,\n",
       "         1.71468511e-01, -6.11627586e-02,  3.16447139e-01,  1.75378248e-01,\n",
       "        -2.27737308e-01,  8.57554749e-02, -3.37081887e-02,  1.30357862e-01,\n",
       "         1.36969224e-01,  7.80112250e-03, -9.52990800e-02, -5.12131974e-02,\n",
       "        -3.65348905e-02, -1.06558636e-01,  6.89644599e-03,  1.03158951e-01,\n",
       "        -1.81330107e-02,  1.50255319e-02, -4.00936194e-02,  3.46096158e-02,\n",
       "         3.61227423e-01,  1.24045029e-01,  1.13523249e-02, -3.28252047e-01,\n",
       "         1.63133889e-01, -8.17639157e-02,  1.15936756e-01,  5.26027679e-02,\n",
       "         2.27180615e-01, -1.79861113e-02, -2.89495960e-02,  6.80903643e-02,\n",
       "        -4.59189236e-01, -2.41698548e-02, -1.04565084e-01,  9.35397111e-03,\n",
       "         1.30722811e-02,  8.15753266e-02, -6.63230419e-02,  3.72137986e-02,\n",
       "         1.07135780e-01, -2.45233968e-01,  2.48165876e-02,  7.76623264e-02,\n",
       "         2.93168016e-02,  2.04562739e-01,  1.17091298e-01, -6.56700507e-02,\n",
       "         4.11908440e-02,  5.81815606e-03,  1.19330622e-02,  8.70282054e-02,\n",
       "         1.59835979e-01, -1.38257906e-01,  7.07514137e-02,  3.51077527e-01,\n",
       "        -1.16615064e-01, -1.48015216e-01, -9.88585949e-02, -6.12077955e-03,\n",
       "         1.29151911e-01, -2.58235843e-03,  6.38747439e-02,  8.26172624e-03,\n",
       "         8.55499879e-02,  5.78858927e-02, -4.03514281e-02,  2.18170002e-01,\n",
       "        -7.92584121e-02,  2.46375315e-02,  3.09288949e-01, -1.45745784e-01,\n",
       "        -6.58643693e-02, -2.46539563e-02, -6.99976459e-02,  1.07454367e-01,\n",
       "         1.87677756e-01, -2.35721916e-01,  2.32207492e-01,  4.97602187e-02,\n",
       "        -3.73516917e-01,  1.70378219e-02,  6.40802667e-04, -1.56762347e-01,\n",
       "         8.81793499e-02,  1.02744296e-01,  5.94951548e-02,  1.75314527e-02,\n",
       "         1.46037608e-01, -1.16020121e-01,  6.34077042e-02,  6.70851022e-02,\n",
       "         2.83363480e-02, -1.09960422e-01, -1.20395482e-01, -8.46859515e-02,\n",
       "         9.50551033e-02,  1.43600211e-01,  7.23765790e-03, -8.76739621e-02,\n",
       "        -8.54455158e-02,  9.11076143e-02, -4.35641110e-02,  5.08369982e-01,\n",
       "         2.31757592e-02,  3.72898906e-01,  1.38189614e-01,  2.22509637e-01,\n",
       "        -5.59002876e-01, -4.09563422e-01, -5.38142979e-01, -3.19648445e-01,\n",
       "        -2.68771410e-01, -5.84892035e-01, -2.60319561e-01, -3.06612134e-01,\n",
       "        -2.06292316e-01, -3.41081530e-01, -1.11033946e-01, -6.68557703e-01,\n",
       "        -2.54735500e-01, -1.99716732e-01, -6.29736543e-01, -8.14457908e-02,\n",
       "        -2.07835689e-01,  2.26726830e-01,  9.81158093e-02, -5.84677219e-01,\n",
       "         3.51428948e-02, -4.55503851e-01, -4.09266561e-01, -7.01696277e-01,\n",
       "        -5.84382772e-01, -3.48025650e-01, -3.41969803e-02, -5.63146234e-01,\n",
       "        -3.03529710e-01, -1.17525563e-01, -5.49443185e-01, -4.25518334e-01,\n",
       "        -5.71016550e-01, -3.92253399e-01, -1.48451328e-01, -4.60667282e-01,\n",
       "        -4.45155978e-01, -3.15702260e-01, -2.15204865e-01, -3.90215218e-01,\n",
       "         5.73636830e-01, -1.93169918e-02, -5.22377014e-01, -5.69961332e-02,\n",
       "        -3.55163425e-01, -5.63145101e-01, -5.14693379e-01,  4.61416878e-03,\n",
       "        -3.81725609e-01, -5.29070199e-01, -3.96338373e-01, -6.22014344e-01,\n",
       "         5.94069779e-01,  1.66630857e-02, -3.69575694e-02, -5.96723080e-01,\n",
       "        -6.21989667e-01, -4.53652948e-01,  1.62875265e-01, -4.87675697e-01,\n",
       "        -2.09397689e-01, -2.48637110e-01, -4.51238066e-01, -6.59964323e-01,\n",
       "        -2.39036411e-01, -1.64016575e-01, -1.96527287e-01, -2.09233865e-01,\n",
       "        -4.17349339e-01, -3.06973428e-01, -5.91861367e-01, -4.94745284e-01,\n",
       "        -2.97812968e-01, -3.49801034e-01, -2.94506978e-02, -4.30296838e-01,\n",
       "        -5.25177121e-01, -1.81909483e-02, -4.78003651e-01, -7.73936629e-01,\n",
       "        -2.82557875e-01, -3.58789802e-01,  1.68679953e-01, -1.09683663e-01,\n",
       "         4.00582463e-01, -1.22185133e-01, -1.51660785e-01, -4.53074485e-01,\n",
       "        -2.41240770e-01, -7.27890253e-01,  3.33233267e-01,  2.61834174e-01,\n",
       "        -3.13200891e-01, -3.50271881e-01, -5.51683664e-01, -3.83398354e-01,\n",
       "        -9.13011253e-01,  3.43823105e-01,  1.29077092e-01, -6.39469624e-01,\n",
       "         2.81351089e-01, -1.79299474e-01, -6.23836577e-01,  3.25426519e-01,\n",
       "         1.43420761e-02, -5.79888821e-01, -2.35376686e-01,  4.75860983e-01,\n",
       "        -4.33458298e-01, -3.27090263e-01, -1.52423590e-01, -1.15862571e-01,\n",
       "        -6.23425841e-01, -3.29243392e-01, -1.74968541e-01, -2.77075082e-01,\n",
       "        -2.38992915e-01,  8.54017679e-03, -8.01254928e-01, -9.28613603e-01,\n",
       "        -5.72359741e-01, -2.35338584e-01, -6.29997790e-01,  1.15581596e+00],\n",
       "       dtype=float32),\n",
       " array([[-0.04138362,  0.06072826,  0.0248384 , ...,  0.04468689,\n",
       "          0.03979719,  0.05031993],\n",
       "        [ 0.03010895, -0.00609072, -0.04915977, ..., -0.09738584,\n",
       "         -0.06483491, -0.04203146],\n",
       "        [ 0.02528145, -0.06595626,  0.04670442, ...,  0.05671241,\n",
       "         -0.09148059, -0.02104781],\n",
       "        ...,\n",
       "        [ 0.01032772, -0.093994  ,  0.03143602, ...,  0.0279553 ,\n",
       "          0.02965166,  0.00485325],\n",
       "        [-0.03875594, -0.0669589 , -0.06315303, ...,  0.03766514,\n",
       "          0.00856528,  0.00870116],\n",
       "        [-0.07461484,  0.04601274, -0.05756843, ...,  0.04849944,\n",
       "         -0.05077319, -0.05491307]], dtype=float32),\n",
       " array([[-0.78094745, -0.9499747 , -1.252804  , ..., -0.05341674,\n",
       "         -0.35316873,  0.22459784],\n",
       "        [-0.8988424 , -0.2377752 ,  0.11460425, ...,  0.36485392,\n",
       "         -0.41665167, -0.20971787],\n",
       "        [ 0.670959  ,  0.91922975,  0.66898453, ..., -0.04774772,\n",
       "          0.21091674, -0.18407688],\n",
       "        ...,\n",
       "        [-1.4011136 , -0.40457088, -0.94711035, ..., -0.41463244,\n",
       "         -0.4231105 , -0.13549311],\n",
       "        [ 1.0765616 ,  0.09241807,  0.19422585, ..., -0.08673691,\n",
       "         -0.7586093 , -0.5773339 ],\n",
       "        [-0.0567398 , -0.25588784, -0.5245417 , ...,  0.10870713,\n",
       "         -0.16801786, -1.2319415 ]], dtype=float32),\n",
       " array([-9.60321367e-01, -1.09960651e+00, -1.23806942e+00, -1.17807233e+00,\n",
       "        -7.59896815e-01, -7.36519337e-01, -1.29692233e+00, -5.74283600e-01,\n",
       "        -2.81023327e-02, -9.44850266e-01, -4.46418673e-01, -1.11284411e+00,\n",
       "        -1.03014612e+00, -1.16367030e+00, -7.97245920e-01, -1.12803209e+00,\n",
       "        -4.04471576e-01, -1.72670662e-01, -1.05516851e+00, -8.85226309e-01,\n",
       "        -7.21551776e-01, -5.46693385e-01, -1.13009393e+00, -6.97295129e-01,\n",
       "        -1.00589477e-01, -1.07690942e+00,  2.12928113e-02, -1.10904157e+00,\n",
       "        -9.78014350e-01, -1.10263014e+00, -1.24129808e+00, -6.41183794e-01,\n",
       "        -1.79684058e-01,  1.33979470e-01, -1.16971660e+00, -1.10842931e+00,\n",
       "        -7.12658465e-01, -1.09537280e+00, -9.99960542e-01, -7.33265877e-01,\n",
       "        -7.22853959e-01, -4.00535613e-01, -8.98882210e-01, -1.37209475e+00,\n",
       "        -1.12405980e+00, -1.06784523e+00, -1.29948092e+00, -7.70040274e-01,\n",
       "        -7.38284171e-01, -1.03125131e+00, -1.28964221e+00, -1.10721254e+00,\n",
       "         1.89283043e-01, -9.03782248e-01, -3.02717835e-01, -8.81835163e-01,\n",
       "        -8.75809193e-01, -5.79018891e-01, -1.12724221e+00, -1.04997897e+00,\n",
       "        -7.11627066e-01, -1.10468233e+00, -1.13730478e+00, -1.00567091e+00,\n",
       "        -5.78753233e-01, -9.46239948e-01, -6.36884511e-01, -7.68699527e-01,\n",
       "        -1.12733614e+00, -1.40759960e-01, -7.77747452e-01, -1.11933386e+00,\n",
       "        -6.73777401e-01, -9.67830539e-01, -7.51674533e-01, -1.22710526e+00,\n",
       "        -8.56476665e-01, -5.99779427e-01, -1.45484656e-01, -3.10859799e-01,\n",
       "        -1.08415258e+00, -9.73038912e-01, -7.32074559e-01, -1.34637618e+00,\n",
       "        -1.03844523e+00, -7.55827487e-01, -1.03212690e+00, -1.03013182e+00,\n",
       "        -1.25575078e+00, -1.54230848e-01, -9.75640595e-01, -8.96906793e-01,\n",
       "        -9.99199152e-01, -9.14556324e-01, -1.11840272e+00, -1.25488973e+00,\n",
       "        -5.93775272e-01, -8.02868485e-01, -8.24218988e-01, -2.68036783e-01,\n",
       "        -7.06286311e-01, -1.09628499e+00, -1.04379475e+00, -5.38762867e-01,\n",
       "        -1.17708147e+00, -7.17213005e-02, -8.57330203e-01, -1.20765603e+00,\n",
       "        -1.24319375e+00, -8.98532033e-01, -2.07607701e-01, -1.24519396e+00,\n",
       "        -7.87436962e-01, -1.20786500e+00, -1.13900793e+00, -2.91058302e-01,\n",
       "        -7.47319758e-01, -7.92108476e-01, -1.24708462e+00,  1.94379203e-02,\n",
       "         4.92017716e-01, -1.20406985e+00, -9.84653175e-01, -4.09798086e-01,\n",
       "        -7.90597081e-01, -3.08749944e-01, -6.91746354e-01, -8.70606184e-01,\n",
       "         1.49661207e+00,  1.56480908e+00,  1.64303076e+00,  1.36426318e+00,\n",
       "         1.54647517e+00,  1.52099121e+00,  1.56737399e+00,  1.55763400e+00,\n",
       "         1.10074174e+00,  1.51655936e+00,  1.05011904e+00,  1.48204720e+00,\n",
       "         1.63931084e+00,  1.49634123e+00,  1.32544446e+00,  1.52085304e+00,\n",
       "         1.47169566e+00,  1.23774862e+00,  1.55668974e+00,  1.59319031e+00,\n",
       "         1.62334502e+00,  1.20632851e+00,  1.36969161e+00,  1.42039227e+00,\n",
       "         1.37523282e+00,  1.49097884e+00,  1.70754921e+00,  1.65229237e+00,\n",
       "         1.46857321e+00,  1.50803554e+00,  1.44840443e+00,  1.41267955e+00,\n",
       "         1.62990463e+00,  1.18271923e+00,  1.47263408e+00,  1.51204181e+00,\n",
       "         1.52153051e+00,  1.60220337e+00,  1.68453133e+00,  1.42234933e+00,\n",
       "         1.42527556e+00,  1.00657058e+00,  1.55630529e+00,  1.56956995e+00,\n",
       "         1.39180136e+00,  1.66650152e+00,  1.49029911e+00,  1.02310371e+00,\n",
       "         1.50564289e+00,  1.40324342e+00,  1.36949718e+00,  1.38992083e+00,\n",
       "         1.51139677e+00,  1.56484473e+00,  7.35896528e-01,  1.56586635e+00,\n",
       "         1.33063197e+00,  1.20182884e+00,  1.47428668e+00,  1.41929066e+00,\n",
       "         1.50996947e+00,  1.49218750e+00,  1.42044067e+00,  1.39621270e+00,\n",
       "         1.49741328e+00,  1.34514558e+00,  1.69094527e+00,  1.42969441e+00,\n",
       "         1.55567658e+00,  1.51680851e+00,  1.76153052e+00,  1.46068025e+00,\n",
       "         1.46457231e+00,  1.32223296e+00,  1.39724350e+00,  1.53775418e+00,\n",
       "         1.49604201e+00,  1.37523794e+00,  1.16876602e+00,  1.58996606e+00,\n",
       "         1.50005293e+00,  1.63983083e+00,  1.61452568e+00,  1.63514781e+00,\n",
       "         1.50183141e+00,  1.76076925e+00,  1.55139303e+00,  1.38395798e+00,\n",
       "         1.36909127e+00,  1.30448461e+00,  1.37588489e+00,  1.77640700e+00,\n",
       "         1.30927598e+00,  1.58805132e+00,  1.52057290e+00,  1.46778524e+00,\n",
       "         1.19050729e+00,  1.39534152e+00,  1.49735796e+00,  1.64396238e+00,\n",
       "         1.44256198e+00,  1.61516619e+00,  1.46215236e+00,  1.54521441e+00,\n",
       "         1.52663434e+00,  1.18589687e+00,  1.59156275e+00,  1.52685237e+00,\n",
       "         1.42012596e+00,  1.47655535e+00,  1.03037524e+00,  1.43540120e+00,\n",
       "         1.05688965e+00,  1.45810306e+00,  1.31946731e+00,  1.30706000e+00,\n",
       "         1.40595829e+00,  1.35826540e+00,  1.46869743e+00,  1.18995309e+00,\n",
       "         1.38513386e+00,  1.53952730e+00,  1.37455416e+00,  1.22033155e+00,\n",
       "         1.69422150e+00,  8.78979325e-01,  1.53531861e+00,  1.30858314e+00,\n",
       "         6.06037527e-02, -5.39183151e-03,  1.04081616e-01,  1.37038706e-02,\n",
       "         1.09321229e-01, -9.41531733e-02, -1.07199037e-02, -3.68735678e-02,\n",
       "         7.41986632e-01,  2.45213553e-01, -5.13773561e-01, -1.65719271e-01,\n",
       "         4.27239953e-04, -2.74057779e-02, -1.43723264e-01,  2.94935498e-02,\n",
       "         4.50096130e-01,  4.48766679e-01,  2.74961710e-01, -2.57428646e-01,\n",
       "        -1.55191332e-01,  2.86955893e-01, -4.38785627e-02, -1.94808528e-01,\n",
       "         4.66414273e-01, -9.68009513e-03,  5.47122896e-01,  5.02224192e-02,\n",
       "         1.62665099e-01, -1.63293973e-01, -7.81382695e-02, -3.00899982e-01,\n",
       "        -6.80063605e-01,  2.85260439e-01, -1.23723678e-01, -4.85532768e-02,\n",
       "        -2.73114264e-01, -1.32820413e-01,  1.40785083e-01, -1.68517396e-01,\n",
       "        -8.73194262e-02, -1.64485991e-01, -1.14855818e-01,  1.15084149e-01,\n",
       "         2.32821070e-02, -4.03012261e-02,  1.52338177e-01,  3.22104037e-01,\n",
       "        -2.26438090e-01, -7.26075917e-02, -3.57212871e-02,  8.05061981e-02,\n",
       "         5.34084082e-01, -8.48900527e-02, -3.59538764e-01, -2.64362842e-01,\n",
       "        -1.57237083e-01,  3.70247304e-01, -9.97560471e-03,  3.58298868e-02,\n",
       "         1.59177139e-01,  2.80840218e-01,  2.66627641e-03,  1.13582619e-01,\n",
       "         3.89528722e-01,  1.54075682e-01,  2.52895325e-01,  2.29628488e-01,\n",
       "         9.55031067e-02,  2.79412657e-01,  2.27982566e-01,  3.47572803e-01,\n",
       "        -2.16000572e-01, -1.13294855e-01,  2.69318283e-01, -2.03046486e-01,\n",
       "         1.59053162e-01, -2.92203158e-01, -4.25319046e-01,  1.56820819e-01,\n",
       "         5.65434806e-03, -8.32225680e-02, -1.96189597e-01, -1.67758882e-01,\n",
       "         7.59451743e-03, -1.70439750e-01,  1.01004519e-01, -1.62906349e-01,\n",
       "         3.25067863e-02,  4.54042852e-01,  2.39816085e-02,  8.78754631e-02,\n",
       "         1.81314006e-01,  2.35052168e-01,  9.30676935e-04, -1.76378880e-02,\n",
       "         2.22518548e-01,  2.74845093e-01,  2.25094274e-01, -7.02255726e-01,\n",
       "        -3.95012610e-02, -7.76239187e-02, -4.83480142e-03,  3.03252339e-01,\n",
       "        -1.01566024e-01,  5.41351259e-01,  2.90339943e-02,  5.70821203e-02,\n",
       "        -8.00163578e-03,  1.64312452e-01, -9.45925936e-02, -8.77232924e-02,\n",
       "        -1.17515363e-02,  3.91194373e-02,  4.42223288e-02,  4.47204858e-01,\n",
       "         2.98448086e-01, -1.54527128e-01,  1.46169901e-01,  5.86375356e-01,\n",
       "         8.63370419e-01, -1.23986404e-03,  7.71769509e-02, -5.23688614e-01,\n",
       "         1.50465667e-01,  3.42060089e-01,  2.46393129e-01, -2.75123958e-02,\n",
       "         9.72301811e-02,  1.49604782e-01,  1.97510585e-01,  1.17762618e-01,\n",
       "        -3.56172621e-01, -4.64580476e-01, -3.29243660e-01, -3.46601605e-01,\n",
       "        -4.38882202e-01, -3.95406663e-01, -4.06322241e-01, -3.16367596e-01,\n",
       "        -6.82912627e-03, -1.72454879e-01, -1.85755551e-01, -3.97743940e-01,\n",
       "        -4.51060802e-01, -4.40675855e-01, -3.30046386e-01, -1.30424827e-01,\n",
       "        -3.74084175e-01, -4.14813101e-01, -1.86058804e-02, -4.60139662e-01,\n",
       "        -5.56236207e-01, -1.93481952e-01, -3.76996875e-01, -1.38274759e-01,\n",
       "        -1.18911490e-01, -2.75849521e-01,  1.79445744e-01, -5.40030956e-01,\n",
       "         1.16210483e-01, -5.37909687e-01, -1.64675549e-01,  6.52964413e-02,\n",
       "        -5.95797479e-01, -5.33791147e-02, -3.38807404e-01, -6.13986492e-01,\n",
       "        -5.70379853e-01, -2.64800102e-01, -2.11070627e-01, -4.73322943e-02,\n",
       "         1.55482754e-01,  1.19922854e-01, -3.12802225e-01, -4.12732989e-01,\n",
       "        -6.07019544e-01, -4.11986321e-01, -2.67510891e-01,  2.48677462e-01,\n",
       "        -3.08793038e-01, -3.13800335e-01, -6.70586407e-01, -4.66176093e-01,\n",
       "        -3.02400477e-02, -3.60224247e-01,  1.48301274e-01, -2.78618224e-02,\n",
       "        -3.24464113e-01, -2.78417617e-01,  1.29970267e-01, -3.36530507e-01,\n",
       "        -5.24895430e-01, -3.78783569e-02, -5.28557956e-01, -4.98289615e-01,\n",
       "        -1.78141847e-01, -4.32545185e-01, -2.15370089e-01,  2.11541373e-02,\n",
       "        -5.51739335e-01, -3.30890507e-01, -5.05479515e-01, -2.73732960e-01,\n",
       "        -2.31200829e-01, -6.07430041e-01, -5.82526267e-01, -3.76091629e-01,\n",
       "        -2.72239327e-01, -2.02329621e-01, -4.33768660e-01, -1.90238789e-01,\n",
       "        -1.87233865e-01, -2.07854494e-01, -5.90172270e-03, -4.53072995e-01,\n",
       "         1.27386317e-01, -4.56790328e-01, -2.73837924e-01, -3.87905866e-01,\n",
       "        -3.30104679e-01, -5.14668107e-01,  3.86829674e-02,  5.70029654e-02,\n",
       "        -6.36626244e-01, -2.86116451e-01, -5.46609938e-01, -7.78343529e-02,\n",
       "        -4.29787904e-01,  1.96786299e-01,  1.81807593e-01, -4.46903884e-01,\n",
       "         1.47725902e-02, -4.27860677e-01, -2.79681712e-01,  1.13897756e-01,\n",
       "         1.70234531e-01, -4.16153133e-01, -4.09531623e-01,  7.45971277e-02,\n",
       "        -1.52731672e-01, -3.23599666e-01, -8.71288627e-02, -4.30394351e-01,\n",
       "        -4.90301520e-01, -4.75994498e-01,  2.47393072e-01, -4.73401487e-01,\n",
       "        -2.82537401e-01,  5.39358743e-02, -3.78647625e-01, -3.55572492e-01,\n",
       "        -3.24576318e-01, -5.39950192e-01, -3.51346165e-01, -3.06621045e-01],\n",
       "       dtype=float32),\n",
       " array([[ 0.34696567, -0.0048899 , -0.27664396, ...,  0.3597914 ,\n",
       "         -0.12492186, -0.26589483],\n",
       "        [-0.2399766 ,  0.2179066 ,  0.36571652, ..., -0.18044938,\n",
       "          0.14769977, -0.89155436],\n",
       "        [ 0.10702576, -0.7988017 ,  0.25888872, ...,  0.2985065 ,\n",
       "         -0.07587025,  0.03070629],\n",
       "        ...,\n",
       "        [-0.13279842, -0.00310229,  0.39039654, ...,  0.00578335,\n",
       "         -0.10032911, -0.13200407],\n",
       "        [-0.06146967, -0.45997864, -0.29151642, ..., -0.11956555,\n",
       "         -0.11989014, -0.06774657],\n",
       "        [-0.05825667, -0.524601  ,  0.39937684, ...,  0.5908566 ,\n",
       "         -0.19774646, -0.11482811]], dtype=float32),\n",
       " array([-0.10486583, -0.01803269, -0.09700107,  0.12895273,  0.10326219,\n",
       "         0.16253816,  0.15162402,  0.16508123,  0.12174197, -0.07126204,\n",
       "         0.09793928,  0.02225854,  0.07519446, -0.15399294, -0.1802343 ,\n",
       "         0.1686999 ,  0.10840981,  0.05161268,  0.01302351,  0.05747984,\n",
       "         0.04988935,  0.01584486,  0.19008526,  0.00059601,  0.02967342,\n",
       "         0.08741021,  0.12979063,  0.04530909,  0.16345522,  0.09097724,\n",
       "         0.07091811, -0.21904476,  0.14334227,  0.17819594,  0.21928965,\n",
       "         0.12782742,  0.02293034, -0.05251027, -0.05631109,  0.02034425,\n",
       "        -0.03556705, -0.07466628, -0.02087085,  0.0364912 ,  0.09201039,\n",
       "         0.21079992,  0.08833095, -0.00500814,  0.01293804,  0.0712983 ,\n",
       "        -0.03946384,  0.09639114,  0.10325249, -0.03064587, -0.00077923,\n",
       "        -0.01661327, -0.20607464, -0.07759592,  0.20166434, -0.00089339,\n",
       "         0.03275188, -0.0074779 ,  0.10150523, -0.2320486 ,  0.12001707,\n",
       "         0.05320552, -0.16704784,  0.10328874,  0.00385418,  0.20849232,\n",
       "         0.13066672, -0.00489541,  0.04621672, -0.04816186,  0.1380567 ,\n",
       "         0.16700672, -0.00925618, -0.37280175, -0.24206825,  0.00703258,\n",
       "         0.0951324 ,  0.0385185 ,  0.01910646,  0.02573676, -0.03375103,\n",
       "         0.15661365, -0.32434145,  0.0669224 ,  0.01542974,  0.10564356,\n",
       "        -0.02192203,  0.19478722,  0.08608279,  0.07387509,  0.10247411,\n",
       "         0.08992716,  0.04992261, -0.34669498,  0.11524665,  0.02902984,\n",
       "         0.04134169, -0.3440121 ,  0.13405524, -0.01429019, -0.27382466,\n",
       "         0.0155485 , -0.39651954,  0.08240815,  0.13691813,  0.06019644,\n",
       "        -0.02128793,  0.12380858,  0.03614817, -0.090414  ,  0.02664537,\n",
       "         0.05998429, -0.0663888 , -0.07866544,  0.10499195,  0.12798986,\n",
       "         0.0194724 ,  0.00806256,  0.03606643, -0.10179767,  0.02795063,\n",
       "         0.04353448, -0.00623178, -0.04722895], dtype=float32),\n",
       " array([[-0.0473629 ,  0.1566049 , -0.287364  , ...,  0.11764763,\n",
       "          0.20924109,  0.11051798],\n",
       "        [-0.48163828,  0.01363409,  0.06487544, ...,  0.19168217,\n",
       "         -0.8338391 ,  0.04943641],\n",
       "        [ 0.0729659 ,  0.10469653,  0.02799543, ..., -0.7717536 ,\n",
       "          0.08809755, -0.54989886],\n",
       "        ...,\n",
       "        [ 0.02166293, -0.27086893,  0.08266792, ..., -0.11469533,\n",
       "         -0.5742441 , -0.22842053],\n",
       "        [ 0.09988318, -0.21198441, -1.6945093 , ..., -0.14735757,\n",
       "         -0.20316319, -0.00493756],\n",
       "        [ 0.09091623,  0.02720254, -0.04733145, ..., -0.09316737,\n",
       "         -0.03063661, -0.11509846]], dtype=float32),\n",
       " array([-0.32029793, -0.310195  , -0.19872074, -0.35882235, -0.39893958,\n",
       "        -0.40717268, -0.38470224, -0.391015  , -0.35874522, -0.4189277 ,\n",
       "        -0.41282442, -0.38957527, -0.36073896, -0.46803448, -0.47098002,\n",
       "        -0.44033322, -0.37892687, -0.42565086, -0.39884743, -0.43105093,\n",
       "        -0.5097305 , -0.45179006, -0.43222934, -0.43920538, -0.35477865,\n",
       "        -0.4093732 , -0.42671472, -0.45367083, -0.37776005, -0.3847634 ,\n",
       "        -0.40497166, -0.28468868, -0.43338028, -0.4423308 , -0.21439382,\n",
       "        -0.3840188 , -0.4855329 , -0.31614977, -0.37846333, -0.4006838 ,\n",
       "        -0.28861666, -0.26809776, -0.224054  , -0.2067733 , -0.30450073,\n",
       "        -0.12154614, -0.18385033, -0.27413368, -0.21258071, -0.27568543,\n",
       "        -0.21521577, -0.29293817, -0.25445876, -0.11140203, -0.17266215,\n",
       "        -0.16488525, -0.08725338, -0.13358346, -0.1386863 , -0.12709258,\n",
       "        -0.04120646,  0.00779378, -0.1530758 , -0.04993964, -0.03126766,\n",
       "         0.12906314, -0.07731992, -0.09066211, -0.12726898, -0.07063115,\n",
       "        -0.11285004, -0.00101058, -0.10158746, -0.09832604, -0.14650209,\n",
       "         0.04116252, -0.18138723, -0.1149618 , -0.11220346, -0.08007622,\n",
       "        -0.05189738, -0.29574424, -0.14425193, -0.3532252 , -0.3013189 ,\n",
       "        -0.20651217, -0.365604  , -0.20370945], dtype=float32)]"
      ]
     },
     "execution_count": 5,
     "metadata": {},
     "output_type": "execute_result"
    }
   ],
   "source": [
    "model.get_weights()"
   ]
  },
  {
   "cell_type": "code",
   "execution_count": 35,
   "metadata": {},
   "outputs": [
    {
     "name": "stdout",
     "output_type": "stream",
     "text": [
      "Filename:  2018\\MIDI-Unprocessed_Recital17-19_MID--AUDIO_18_R1_2018_wav--3.png\n"
     ]
    }
   ],
   "source": [
    " (x_enk_minta, _), y_dek_minta = next(train_data_gen)"
   ]
  },
  {
   "cell_type": "code",
   "execution_count": 37,
   "metadata": {},
   "outputs": [
    {
     "data": {
      "text/plain": [
       "(100, 88)"
      ]
     },
     "execution_count": 37,
     "metadata": {},
     "output_type": "execute_result"
    }
   ],
   "source": [
    "x_enk_minta[0].shape"
   ]
  },
  {
   "cell_type": "code",
   "execution_count": 41,
   "metadata": {},
   "outputs": [
    {
     "data": {
      "text/plain": [
       "<matplotlib.image.AxesImage at 0x2d2847fb978>"
      ]
     },
     "execution_count": 41,
     "metadata": {},
     "output_type": "execute_result"
    },
    {
     "data": {
      "image/png": "[encoded data removed]",
      "text/plain": [
       "<Figure size 432x288 with 1 Axes>"
      ]
     },
     "metadata": {
      "needs_background": "light"
     },
     "output_type": "display_data"
    }
   ],
   "source": [
    "import matplotlib.pyplot as plt\n",
    "in_img = x_enk_minta[0]\n",
    "gen_img255 = in_img*255\n",
    "gen_img_i = gen_img255.astype(np.uint8)\n",
    "plt.imshow(gen_img_i, cmap='gray')"
   ]
  },
  {
   "cell_type": "code",
   "execution_count": 42,
   "metadata": {},
   "outputs": [
    {
     "data": {
      "text/plain": [
       "<matplotlib.image.AxesImage at 0x2d28483a438>"
      ]
     },
     "execution_count": 42,
     "metadata": {},
     "output_type": "execute_result"
    },
    {
     "data": {
      "image/png": "[encoded data removed]",
      "text/plain": [
       "<Figure size 432x288 with 1 Axes>"
      ]
     },
     "metadata": {
      "needs_background": "light"
     },
     "output_type": "display_data"
    }
   ],
   "source": [
    "out_img = y_dek_minta[0]\n",
    "gen_img255 = out_img*255\n",
    "gen_img_i = gen_img255.astype(np.uint8)\n",
    "plt.imshow(gen_img_i, cmap='gray')"
   ]
  },
  {
   "cell_type": "code",
   "execution_count": 39,
   "metadata": {},
   "outputs": [
    {
     "data": {
      "text/plain": [
       "(88, 100)"
      ]
     },
     "execution_count": 39,
     "metadata": {},
     "output_type": "execute_result"
    }
   ],
   "source": [
    "gen_img.shape"
   ]
  },
  {
   "cell_type": "code",
   "execution_count": 74,
   "metadata": {},
   "outputs": [],
   "source": [
    "(x_enk_minta, x_dek_minta), y_dek_minta = next(valid_data_gen)\n",
    "y_teszt_pred=model.predict([x_enk_minta, x_dek_minta])"
   ]
  },
  {
   "cell_type": "code",
   "execution_count": 79,
   "metadata": {},
   "outputs": [
    {
     "data": {
      "text/plain": [
       "<matplotlib.image.AxesImage at 0x279fbd687b8>"
      ]
     },
     "execution_count": 79,
     "metadata": {},
     "output_type": "execute_result"
    },
    {
     "data": {
      "image/png": "[encoded data removed]",
      "text/plain": [
       "<Figure size 432x288 with 1 Axes>"
      ]
     },
     "metadata": {
      "needs_background": "light"
     },
     "output_type": "display_data"
    }
   ],
   "source": [
    "import matplotlib.pyplot as plt\n",
    "in_img = y_teszt_pred[22]\n",
    "gen_img255 = in_img*255\n",
    "gen_img_i = gen_img255.astype(np.uint8)\n",
    "plt.imshow(gen_img_i, cmap='gray')"
   ]
  },
  {
   "cell_type": "code",
   "execution_count": 80,
   "metadata": {},
   "outputs": [],
   "source": [
    "from PIL import Image\n",
    "image = Image.fromarray(gen_img_i, mode = 'L')\n",
    "image.save('C:/NHF/S2Sgen4.png')"
   ]
  },
  {
   "cell_type": "code",
   "execution_count": 37,
   "metadata": {},
   "outputs": [
    {
     "data": {
      "text/plain": [
       "array([[0., 0., 0., 0., 0., 0., 0., 0., 0., 0., 0., 0., 0., 0., 0., 0.,\n",
       "        0., 0., 0., 0., 0., 0., 0., 0., 0., 0., 0., 0., 0., 0., 0., 0.,\n",
       "        0., 0., 0., 0., 0., 0., 0., 0., 0., 0., 0., 0., 0., 0., 0., 0.,\n",
       "        0., 0., 0., 0., 0., 0., 0., 0., 0., 0., 0., 0., 0., 0., 0., 0.,\n",
       "        0., 0., 0., 0., 0., 0., 0., 0., 0., 0., 0., 0., 0., 0., 0., 0.,\n",
       "        0., 0., 0., 0., 0., 0., 0., 0.],\n",
       "       [0., 0., 0., 0., 0., 0., 0., 0., 0., 0., 0., 0., 0., 0., 0., 0.,\n",
       "        0., 0., 0., 0., 0., 0., 0., 0., 0., 0., 0., 0., 0., 0., 0., 0.,\n",
       "        0., 0., 0., 0., 0., 0., 0., 0., 0., 0., 0., 0., 0., 0., 0., 0.,\n",
       "        0., 0., 0., 0., 0., 0., 0., 0., 0., 0., 0., 0., 0., 0., 0., 0.,\n",
       "        0., 0., 0., 0., 0., 0., 0., 0., 0., 0., 0., 0., 0., 0., 0., 0.,\n",
       "        0., 0., 0., 0., 0., 0., 0., 0.],\n",
       "       [0., 0., 0., 0., 0., 0., 0., 0., 0., 0., 0., 0., 0., 0., 0., 0.,\n",
       "        0., 0., 0., 0., 0., 0., 0., 0., 0., 0., 0., 0., 0., 0., 0., 0.,\n",
       "        0., 0., 0., 0., 0., 0., 0., 0., 0., 0., 0., 0., 0., 0., 0., 0.,\n",
       "        0., 0., 0., 0., 0., 0., 0., 0., 0., 0., 0., 0., 0., 0., 0., 0.,\n",
       "        0., 0., 0., 0., 0., 0., 0., 0., 0., 0., 0., 0., 0., 0., 0., 0.,\n",
       "        0., 0., 0., 0., 0., 0., 0., 0.],\n",
       "       [0., 0., 0., 0., 0., 0., 0., 0., 0., 0., 0., 0., 0., 0., 0., 0.,\n",
       "        0., 0., 0., 0., 0., 0., 0., 0., 0., 0., 0., 0., 0., 0., 0., 0.,\n",
       "        0., 0., 0., 0., 0., 0., 0., 0., 0., 0., 0., 0., 0., 0., 0., 0.,\n",
       "        0., 0., 0., 0., 0., 0., 0., 0., 0., 0., 0., 0., 0., 0., 0., 0.,\n",
       "        0., 0., 0., 0., 0., 0., 0., 0., 0., 0., 0., 0., 0., 0., 0., 0.,\n",
       "        0., 0., 0., 0., 0., 0., 0., 0.],\n",
       "       [0., 0., 0., 0., 0., 0., 0., 0., 0., 0., 0., 0., 0., 0., 0., 0.,\n",
       "        0., 0., 0., 0., 0., 0., 0., 0., 0., 0., 0., 0., 0., 0., 0., 0.,\n",
       "        0., 0., 0., 0., 0., 0., 0., 0., 0., 0., 0., 0., 0., 0., 0., 0.,\n",
       "        0., 0., 0., 0., 0., 0., 0., 0., 0., 0., 0., 0., 0., 0., 0., 0.,\n",
       "        0., 0., 0., 0., 0., 0., 0., 0., 0., 0., 0., 0., 0., 0., 0., 0.,\n",
       "        0., 0., 0., 0., 0., 0., 0., 0.],\n",
       "       [0., 0., 0., 0., 0., 0., 0., 0., 0., 0., 0., 0., 0., 0., 0., 0.,\n",
       "        0., 0., 0., 0., 0., 0., 0., 0., 0., 0., 0., 0., 0., 0., 0., 0.,\n",
       "        0., 0., 0., 0., 0., 0., 0., 0., 0., 0., 0., 0., 0., 0., 0., 0.,\n",
       "        0., 0., 0., 0., 0., 0., 0., 0., 0., 0., 0., 0., 0., 0., 0., 0.,\n",
       "        0., 0., 0., 0., 0., 0., 0., 0., 0., 0., 0., 0., 0., 0., 0., 0.,\n",
       "        0., 0., 0., 0., 0., 0., 0., 0.],\n",
       "       [0., 0., 0., 0., 0., 0., 0., 0., 0., 0., 0., 0., 0., 0., 0., 0.,\n",
       "        0., 0., 0., 0., 0., 0., 0., 0., 0., 0., 0., 0., 0., 0., 0., 0.,\n",
       "        0., 0., 0., 0., 0., 0., 0., 0., 0., 0., 0., 0., 0., 0., 0., 0.,\n",
       "        0., 0., 0., 0., 0., 0., 0., 0., 0., 0., 0., 0., 0., 0., 0., 0.,\n",
       "        0., 0., 0., 0., 0., 0., 0., 0., 0., 0., 0., 0., 0., 0., 0., 0.,\n",
       "        0., 0., 0., 0., 0., 0., 0., 0.],\n",
       "       [0., 0., 0., 0., 0., 0., 0., 0., 0., 0., 0., 0., 0., 0., 0., 0.,\n",
       "        0., 0., 0., 0., 0., 0., 0., 0., 0., 0., 0., 0., 0., 0., 0., 0.,\n",
       "        0., 0., 0., 0., 0., 0., 0., 0., 0., 0., 0., 0., 0., 0., 0., 0.,\n",
       "        0., 0., 0., 0., 0., 0., 0., 0., 0., 0., 0., 0., 0., 0., 0., 0.,\n",
       "        0., 0., 0., 0., 0., 0., 0., 0., 0., 0., 0., 0., 0., 0., 0., 0.,\n",
       "        0., 0., 0., 0., 0., 0., 0., 0.],\n",
       "       [0., 0., 0., 0., 0., 0., 0., 0., 0., 0., 0., 0., 0., 0., 0., 0.,\n",
       "        0., 0., 0., 0., 0., 0., 0., 0., 0., 0., 0., 0., 0., 0., 0., 0.,\n",
       "        0., 0., 0., 0., 0., 0., 0., 0., 0., 0., 0., 0., 0., 0., 0., 0.,\n",
       "        0., 0., 0., 0., 0., 0., 0., 0., 0., 0., 0., 0., 0., 0., 0., 0.,\n",
       "        0., 0., 0., 0., 0., 0., 0., 0., 0., 0., 0., 0., 0., 0., 0., 0.,\n",
       "        0., 0., 0., 0., 0., 0., 0., 0.],\n",
       "       [0., 0., 0., 0., 0., 0., 0., 0., 0., 0., 0., 0., 0., 0., 0., 0.,\n",
       "        0., 0., 0., 0., 0., 0., 0., 0., 0., 0., 0., 0., 0., 0., 0., 0.,\n",
       "        0., 0., 0., 0., 0., 0., 0., 0., 0., 0., 0., 0., 0., 0., 0., 0.,\n",
       "        0., 0., 0., 0., 0., 0., 0., 0., 0., 0., 0., 0., 0., 0., 0., 0.,\n",
       "        0., 0., 0., 0., 0., 0., 0., 0., 0., 0., 0., 0., 0., 0., 0., 0.,\n",
       "        0., 0., 0., 0., 0., 0., 0., 0.]], dtype=float32)"
      ]
     },
     "execution_count": 37,
     "metadata": {},
     "output_type": "execute_result"
    }
   ],
   "source": [
    "y_teszt_pred[20]"
   ]
  },
  {
   "cell_type": "code",
   "execution_count": null,
   "metadata": {},
   "outputs": [],
   "source": []
  }
 ],
 "metadata": {
  "kernelspec": {
   "display_name": "Python 3",
   "language": "python",
   "name": "python3"
  },
  "language_info": {
   "codemirror_mode": {
    "name": "ipython",
    "version": 3
   },
   "file_extension": ".py",
   "mimetype": "text/x-python",
   "name": "python",
   "nbconvert_exporter": "python",
   "pygments_lexer": "ipython3",
   "version": "3.7.3"
  }
 },
 "nbformat": 4,
 "nbformat_minor": 4
}
